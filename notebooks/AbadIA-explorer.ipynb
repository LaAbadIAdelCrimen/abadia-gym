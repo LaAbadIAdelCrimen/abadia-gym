{
  "nbformat": 4,
  "nbformat_minor": 0,
  "metadata": {
    "colab": {
      "name": "AbadIA Explore v1.ipynb",
      "version": "0.3.2",
      "provenance": [],
      "private_outputs": true,
      "collapsed_sections": []
    },
    "kernelspec": {
      "name": "python3",
      "display_name": "Python 3"
    },
    "accelerator": "GPU"
  },
  "cells": [
    {
      "metadata": {
        "id": "3T3_FYC4ZBBE",
        "colab_type": "text"
      },
      "cell_type": "markdown",
      "source": [
        "# AbadIA\n",
        "\n",
        "This notebook will have a few simple samples to explore the datasets from the AbadIA project.\n",
        "We will use Apache Spark for some of the actions."
      ]
    },
    {
      "metadata": {
        "id": "a4Jy9JGsPlcs",
        "colab_type": "text"
      },
      "cell_type": "markdown",
      "source": [
        ""
      ]
    },
    {
      "metadata": {
        "colab_type": "text",
        "id": "kvD4HBMi0ohY"
      },
      "cell_type": "markdown",
      "source": [
        "## Spark Bootstraping for Google Colab\n",
        "\n",
        "Run this before start working with the notebooks from the spark course. \n",
        "When you will start a new (and fresh) notebook at Colab. Google Cloud will create a new Docker container just for your use. \n",
        "\n",
        "Executing this notebook will install into the container the software. The container will be reused by the user until it will destroy by inactivity.\n"
      ]
    },
    {
      "metadata": {
        "colab_type": "code",
        "id": "fUhBhrGmyAvs",
        "colab": {}
      },
      "cell_type": "code",
      "source": [
        "!apt-get install openjdk-8-jdk-headless -qq > /dev/null\n",
        "!wget -q https://archive.apache.org/dist/spark/spark-2.4.0/spark-2.4.0-bin-hadoop2.7.tgz\n",
        "!tar xf spark-2.4.0-bin-hadoop2.7.tgz\n",
        "!pip install -q findspark"
      ],
      "execution_count": 0,
      "outputs": []
    },
    {
      "metadata": {
        "colab_type": "text",
        "id": "b4Kjvk_h1AHl"
      },
      "cell_type": "markdown",
      "source": [
        "## Set Environment Variables\n",
        "Set the locations where Spark and Java are installed."
      ]
    },
    {
      "metadata": {
        "colab_type": "code",
        "id": "8Xnb_ePUyQIL",
        "colab": {}
      },
      "cell_type": "code",
      "source": [
        "import os\n",
        "os.environ[\"JAVA_HOME\"] = \"/usr/lib/jvm/java-8-openjdk-amd64\"\n",
        "os.environ[\"SPARK_HOME\"] = \"/content/spark-2.4.0-bin-hadoop2.7\"\n",
        "os.environ[\"PYSPARK_SUBMIT_ARGS\"] = \"--master local[2] pyspark-shell\""
      ],
      "execution_count": 0,
      "outputs": []
    },
    {
      "metadata": {
        "colab_type": "text",
        "id": "NwU28K5f1H3P"
      },
      "cell_type": "markdown",
      "source": [
        "## Start a SparkSession\n",
        "This will start a local Spark session."
      ]
    },
    {
      "metadata": {
        "colab_type": "code",
        "id": "zgReRGl0y23D",
        "colab": {}
      },
      "cell_type": "code",
      "source": [
        "import findspark\n",
        "print(findspark.init())\n",
        "\n",
        "from pyspark.sql import SparkSession\n",
        "\n",
        "spark = SparkSession.builder.master(\"local[*]\").getOrCreate()\n",
        "sc = spark.sparkContext\n"
      ],
      "execution_count": 0,
      "outputs": []
    },
    {
      "metadata": {
        "id": "Y_2Cd36sWuvN",
        "colab_type": "text"
      },
      "cell_type": "markdown",
      "source": [
        "## Cloning our Github repo"
      ]
    },
    {
      "metadata": {
        "colab_type": "code",
        "id": "PZkw_gPEQvId",
        "colab": {}
      },
      "cell_type": "code",
      "source": [
        "!rm -rf /content/abadia-gym\n",
        "!git clone https://github.com/LaAbadIAdelCrimen/abadia-gym  "
      ],
      "execution_count": 0,
      "outputs": []
    },
    {
      "metadata": {
        "id": "gPxzK8kW37ad",
        "colab_type": "text"
      },
      "cell_type": "markdown",
      "source": [
        "## Download your favorite datasets \n"
      ]
    },
    {
      "metadata": {
        "id": "0x22bXTc36ZK",
        "colab_type": "code",
        "colab": {}
      },
      "cell_type": "code",
      "source": [
        "!mkdir -p /content/abadia-gym/datasets\n",
        "!cd /content/abadia-gym/datasets && wget https://storage.googleapis.com/abadia-data/datasets/actions-2019030x.tgz \n",
        "!cd /content/abadia-gym/datasets && tar xvzf *.tgz   \n",
        "!ls -ltr /content/abadia-gym/datasets\n",
        "!#/content/abadia-gym/tools/download_list.sh https://storage.googleapis.com/abadia-data/last_5000_actions_list.txt 2>/dev/null& "
      ],
      "execution_count": 0,
      "outputs": []
    },
    {
      "metadata": {
        "id": "SUW1zim5nY31",
        "colab_type": "code",
        "colab": {}
      },
      "cell_type": "code",
      "source": [
        "!# mv /content/abadia-gym/datasets/actions-20190326.tgz /content/abadia-gym/datasets/actions-20190326.tar.gz\n",
        "!# cd /content/abadia-gym/datasets && gunzip actions-20190326.tar.gz\n",
        "!#rm /content/abadia-gym/datasets/*2019* \n",
        "!# ls -ltr /content/abadia-gym/datasets\n",
        "!#rm /content/abadia-gym/datasets/*\n"
      ],
      "execution_count": 0,
      "outputs": []
    },
    {
      "metadata": {
        "id": "0Luher6iBmkw",
        "colab_type": "code",
        "colab": {}
      },
      "cell_type": "code",
      "source": [
        "!#tar tvf /content/abadia-gym/datasets/actions-test.tar\n",
        "!#ls -lt /content/abadia-gym/datasets\n",
        "!# cd /content/abadia-gym/datasets && tar xvf actions-test.tar\n",
        "\n",
        "df = spark.read.option(\"multiLine\", False).option(\"mode\", \"DROPMALFORMED\").option(\"badRecordsPath\", \"/tmp/bad-format\").json('/content/abadia-gym/datasets/*actions*.json')"
      ],
      "execution_count": 0,
      "outputs": []
    },
    {
      "metadata": {
        "id": "ZvEWLppUC4KR",
        "colab_type": "code",
        "colab": {}
      },
      "cell_type": "code",
      "source": [
        "!mkdir -p /tmp/bad-format\n",
        "!ls -lt /tmp/bad-format\n",
        "!# tar tvf /content/abadia-gym/datasets/actions-test.tar\n",
        "print(df.printSchema())"
      ],
      "execution_count": 0,
      "outputs": []
    },
    {
      "metadata": {
        "id": "OV6z8vMP2Vy1",
        "colab_type": "code",
        "colab": {}
      },
      "cell_type": "code",
      "source": [
        "df.count()"
      ],
      "execution_count": 0,
      "outputs": []
    },
    {
      "metadata": {
        "id": "LWxJSMYHaDhx",
        "colab_type": "code",
        "colab": {}
      },
      "cell_type": "code",
      "source": [
        "df.cache()"
      ],
      "execution_count": 0,
      "outputs": []
    },
    {
      "metadata": {
        "id": "WKwtiEXnC83m",
        "colab_type": "code",
        "colab": {}
      },
      "cell_type": "code",
      "source": [
        "df.select(\"action.*\").show(10, False)"
      ],
      "execution_count": 0,
      "outputs": []
    },
    {
      "metadata": {
        "id": "mqlqd0R-DU20",
        "colab_type": "code",
        "colab": {}
      },
      "cell_type": "code",
      "source": [
        "print(df.describe(\"action.nextstate.*\").show())"
      ],
      "execution_count": 0,
      "outputs": []
    },
    {
      "metadata": {
        "id": "qpMRLryeECyL",
        "colab_type": "code",
        "colab": {}
      },
      "cell_type": "code",
      "source": [
        "df.filter(\"action is not null and porcentaje is not null\").show(20, False)"
      ],
      "execution_count": 0,
      "outputs": []
    },
    {
      "metadata": {
        "id": "W1JyW6KZGBZQ",
        "colab_type": "code",
        "colab": {}
      },
      "cell_type": "code",
      "source": [
        ""
      ],
      "execution_count": 0,
      "outputs": []
    }
  ]
}
