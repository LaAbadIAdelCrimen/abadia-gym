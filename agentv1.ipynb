{
 "cells": [
  {
   "cell_type": "code",
   "execution_count": 1,
   "metadata": {},
   "outputs": [
    {
     "name": "stdout",
     "output_type": "stream",
     "text": [
      "AbadiaEnv - Version 0.1.0\n",
      "\u001b[33mWARN: gym.spaces.Box autodetected dtype as <class 'numpy.float32'>. Please provide explicit dtype.\u001b[0m\n",
      "\u001b[33mWARN: Environment '<class 'gym_abadia.envs.abadia_env.AbadiaEnv'>' has deprecated methods '_step' and '_reset' rather than 'step' and 'reset'. Compatibility code invoked. Set _gym_disable_underscore_compat = True to disable this behavior.\u001b[0m\n"
     ]
    }
   ],
   "source": [
    "import gym\n",
    "import gym_abadia\n",
    "\n",
    "env = gym.make('Abadia-v0')\n"
   ]
  },
  {
   "cell_type": "code",
   "execution_count": 3,
   "metadata": {},
   "outputs": [
    {
     "name": "stdout",
     "output_type": "stream",
     "text": [
      "[3]\n",
      "[2]\n",
      "[1]\n",
      "Episode finished after 3 timesteps\n",
      "[0]\n",
      "Episode finished after 1 timesteps\n",
      "[-1]\n",
      "Episode finished after 1 timesteps\n",
      "[-2]\n",
      "Episode finished after 1 timesteps\n",
      "[-3]\n",
      "Episode finished after 1 timesteps\n",
      "[-4]\n",
      "Episode finished after 1 timesteps\n",
      "[-5]\n",
      "Episode finished after 1 timesteps\n",
      "[-6]\n",
      "Episode finished after 1 timesteps\n",
      "[-7]\n",
      "Episode finished after 1 timesteps\n",
      "[-8]\n",
      "Episode finished after 1 timesteps\n",
      "[-9]\n",
      "Episode finished after 1 timesteps\n",
      "[-10]\n",
      "Episode finished after 1 timesteps\n",
      "[-11]\n",
      "Episode finished after 1 timesteps\n",
      "[-12]\n",
      "Episode finished after 1 timesteps\n",
      "[-13]\n",
      "Episode finished after 1 timesteps\n",
      "[-14]\n",
      "Episode finished after 1 timesteps\n",
      "[-15]\n",
      "Episode finished after 1 timesteps\n",
      "[-16]\n",
      "Episode finished after 1 timesteps\n",
      "[-17]\n",
      "Episode finished after 1 timesteps\n",
      "[-18]\n",
      "Episode finished after 1 timesteps\n"
     ]
    }
   ],
   "source": [
    "for i_episode in range(20):\n",
    "    observation = env.reset()\n",
    "    for t in range(100):\n",
    "        # env.render()\n",
    "        print(observation)\n",
    "        action = env.action_space.sample()\n",
    "        observation, reward, done, info = env.step(action)\n",
    "        if done:\n",
    "            print(\"Episode finished after {} timesteps\".format(t+1))\n",
    "            break"
   ]
  },
  {
   "cell_type": "code",
   "execution_count": null,
   "metadata": {},
   "outputs": [],
   "source": []
  }
 ],
 "metadata": {
  "kernelspec": {
   "display_name": "Python 3",
   "language": "python",
   "name": "python3"
  },
  "language_info": {
   "codemirror_mode": {
    "name": "ipython",
    "version": 3
   },
   "file_extension": ".py",
   "mimetype": "text/x-python",
   "name": "python",
   "nbconvert_exporter": "python",
   "pygments_lexer": "ipython3",
   "version": "3.6.5"
  }
 },
 "nbformat": 4,
 "nbformat_minor": 2
}
